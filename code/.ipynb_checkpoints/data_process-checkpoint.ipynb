{
 "cells": [
  {
   "cell_type": "code",
   "execution_count": 8,
   "metadata": {},
   "outputs": [],
   "source": [
    "import csv \n",
    "import numpy as np\n",
    "def str_to_label(str):\n",
    "    if str == \"yes\":\n",
    "        return 1\n",
    "    elif str == \"no\":\n",
    "        return 0"
   ]
  },
  {
   "cell_type": "code",
   "execution_count": 6,
   "metadata": {},
   "outputs": [],
   "source": [
    "\n",
    "train_social_label = []\n",
    "train_agency_label = []\n",
    "with open(\"../data/labeled_10k.csv\") as f:\n",
    "    with open(\"../data/train_data.txt\", 'w') as output:\n",
    "        f_csv = csv.reader(f)\n",
    "        headings = next(f_csv)\n",
    "        for r in f_csv:\n",
    "            line = r[1] + '\\n'\n",
    "            output.write(line)\n",
    "            train_social_label.append(str_to_label(r[4]))\n",
    "            train_agency_label.append(str_to_label(r[3]))\n"
   ]
  },
  {
   "cell_type": "code",
   "execution_count": 9,
   "metadata": {},
   "outputs": [],
   "source": [
    "np.save(\"../data/train_social_label.npy\", train_social_label)\n",
    "np.save(\"../data/train_agency_label.npy\", train_agency_label)"
   ]
  },
  {
   "cell_type": "code",
   "execution_count": null,
   "metadata": {},
   "outputs": [],
   "source": []
  }
 ],
 "metadata": {
  "kernelspec": {
   "display_name": "Python 3",
   "language": "python",
   "name": "python3"
  },
  "language_info": {
   "codemirror_mode": {
    "name": "ipython",
    "version": 3
   },
   "file_extension": ".py",
   "mimetype": "text/x-python",
   "name": "python",
   "nbconvert_exporter": "python",
   "pygments_lexer": "ipython3",
   "version": "3.7.3"
  }
 },
 "nbformat": 4,
 "nbformat_minor": 2
}
